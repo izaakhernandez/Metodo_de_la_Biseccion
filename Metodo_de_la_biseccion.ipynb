{
 "cells": [
  {
   "cell_type": "markdown",
   "metadata": {},
   "source": [
    "Método de la Bisección"
   ]
  },
  {
   "cell_type": "code",
   "execution_count": 21,
   "metadata": {},
   "outputs": [],
   "source": [
    "import numpy as np"
   ]
  },
  {
   "cell_type": "markdown",
   "metadata": {},
   "source": [
    "$$f(x)=sen(2x+1)-\\frac{3}{5}x+1$$"
   ]
  },
  {
   "cell_type": "code",
   "execution_count": 22,
   "metadata": {},
   "outputs": [],
   "source": [
    "def f(x):\n",
    "    return np.sin(2*x+1)-3*x/5+1"
   ]
  },
  {
   "cell_type": "code",
   "execution_count": 23,
   "metadata": {},
   "outputs": [],
   "source": [
    "def bisec(f,a,b,N=100, emax=1e-6):\n",
    "    x=(a+b)/2\n",
    "    for k in range (N):\n",
    "        # derecho -> cambio de signo\n",
    "        if f(x)*f(b)<0:\n",
    "            a=x\n",
    "        # izquierdo -> cambio de signo\n",
    "        elif f(x)*f(a)<0:\n",
    "            b=x\n",
    "        else:\n",
    "            break\n",
    "        xold=x\n",
    "        x=(a+b)/2\n",
    "        e=abs((x-xold)/x)\n",
    "        if e<emax:\n",
    "           break\n",
    "        print (k,x,f(x),\"{:%}\".format(e))   "
   ]
  },
  {
   "cell_type": "code",
   "execution_count": 24,
   "metadata": {},
   "outputs": [
    {
     "name": "stdout",
     "output_type": "stream",
     "text": [
      "0 1.5 -0.6568024953079283 33.333333%\n",
      "1 1.25 -0.10078322768961989 20.000000%\n",
      "2 1.125 0.21680486546989153 11.111111%\n",
      "3 1.1875 0.05620618759797813 5.263158%\n",
      "4 1.21875 -0.022857881313852912 2.564103%\n",
      "5 1.203125 0.016546439629491427 1.298701%\n",
      "6 1.2109375 -0.003189488098058746 0.645161%\n",
      "7 1.20703125 0.006670263191923542 0.323625%\n",
      "8 1.208984375 0.0017383057085358367 0.161551%\n",
      "9 1.2099609375 -0.0007261152377786573 0.080710%\n",
      "10 1.20947265625 0.0005059646723960531 0.040371%\n",
      "11 1.209716796875 -0.00011010797941812811 0.020182%\n",
      "12 1.2095947265625 0.00019792017930431172 0.010092%\n",
      "13 1.20965576171875 4.390405727228153e-05 0.005046%\n",
      "14 1.209686279296875 -3.3102471850066095e-05 0.002523%\n",
      "15 1.2096710205078125 5.4006650305193915e-06 0.001261%\n",
      "16 1.2096786499023438 -1.385093533157189e-05 0.000631%\n",
      "17 1.2096748352050781 -4.225143130698328e-06 0.000315%\n",
      "18 1.2096729278564453 5.877589548397566e-07 0.000158%\n"
     ]
    }
   ],
   "source": [
    "bisec (f,0,2)"
   ]
  }
 ],
 "metadata": {
  "kernelspec": {
   "display_name": "mi_primer_entorno",
   "language": "python",
   "name": "python3"
  },
  "language_info": {
   "codemirror_mode": {
    "name": "ipython",
    "version": 3
   },
   "file_extension": ".py",
   "mimetype": "text/x-python",
   "name": "python",
   "nbconvert_exporter": "python",
   "pygments_lexer": "ipython3",
   "version": "3.12.9"
  }
 },
 "nbformat": 4,
 "nbformat_minor": 2
}
